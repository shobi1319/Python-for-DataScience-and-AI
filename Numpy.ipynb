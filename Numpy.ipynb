{
  "nbformat": 4,
  "nbformat_minor": 0,
  "metadata": {
    "colab": {
      "provenance": []
    },
    "kernelspec": {
      "name": "python3",
      "display_name": "Python 3"
    },
    "language_info": {
      "name": "python"
    }
  },
  "cells": [
    {
      "cell_type": "markdown",
      "source": [
        "# NumPy Tutorial in Colab\n",
        "\n",
        "## Introduction\n",
        "\n",
        "NumPy is a powerful library for numerical operations in Python. It provides support for large, multi-dimensional arrays and matrices, along with a collection of mathematical functions to operate on these arrays.\n",
        "\n",
        "In this tutorial, we'll cover the following topics:\n",
        "\n",
        "1. Creating Arrays\n",
        "2. Array Operations\n",
        "3. Array Indexing and Slicing\n",
        "4. Shape and Reshaping\n",
        "5. Mathematical Functions\n",
        "\n",
        "Let's get started!\n",
        "\n",
        "## 1. Creating Arrays\n",
        "\n",
        "NumPy arrays are the core data structure. You can create arrays using various methods.\n",
        "\n",
        "```python"
      ],
      "metadata": {
        "id": "ANQUVW-YM0Mm"
      }
    },
    {
      "cell_type": "code",
      "execution_count": 2,
      "metadata": {
        "colab": {
          "base_uri": "https://localhost:8080/"
        },
        "id": "3K9OvumjMkmN",
        "outputId": "09657cf4-572a-489b-d75c-3ff9c18757a3"
      },
      "outputs": [
        {
          "output_type": "execute_result",
          "data": {
            "text/plain": [
              "(array([1, 2, 3]),\n",
              " array([[1, 2, 3],\n",
              "        [4, 5, 6]]),\n",
              " array([[0., 0., 0.],\n",
              "        [0., 0., 0.],\n",
              "        [0., 0., 0.]]),\n",
              " array([[1., 1.],\n",
              "        [1., 1.]]),\n",
              " array([0, 2, 4, 6, 8]))"
            ]
          },
          "metadata": {},
          "execution_count": 2
        }
      ],
      "source": [
        "\n",
        "import numpy as np\n",
        "\n",
        "# Create a 1D array\n",
        "arr_1d = np.array([1, 2, 3])\n",
        "\n",
        "# Create a 2D array\n",
        "arr_2d = np.array([[1, 2, 3], [4, 5, 6]])\n",
        "\n",
        "# Create an array with zeros\n",
        "zeros_array = np.zeros((3, 3))\n",
        "\n",
        "# Create an array with ones\n",
        "ones_array = np.ones((2, 2))\n",
        "\n",
        "# Create an array with a range of values\n",
        "range_array = np.arange(0, 10, 2)  # from 0 to 10 with a step of 2\n",
        "\n",
        "# Display the created arrays\n",
        "arr_1d, arr_2d, zeros_array, ones_array, range_array\n"
      ]
    },
    {
      "cell_type": "markdown",
      "source": [
        "2. Array Operations"
      ],
      "metadata": {
        "id": "Y7srucabNBx3"
      }
    },
    {
      "cell_type": "code",
      "source": [
        "# Element-wise addition\n",
        "result_addition = arr_1d + arr_2d\n",
        "\n",
        "# Element-wise multiplication\n",
        "result_multiplication = arr_1d * arr_2d\n",
        "\n",
        "# Dot product of two arrays\n",
        "dot_product = np.dot(arr_1d, arr_2d.T)  # Transposing arr_2d to make the shapes compatible\n",
        "\n",
        "\n",
        "# Display the results\n",
        "result_addition, result_multiplication, dot_product\n"
      ],
      "metadata": {
        "colab": {
          "base_uri": "https://localhost:8080/"
        },
        "id": "Cso9zkCoMnkw",
        "outputId": "adbc3037-24ae-4dbd-8c4e-008834258601"
      },
      "execution_count": 4,
      "outputs": [
        {
          "output_type": "execute_result",
          "data": {
            "text/plain": [
              "(array([[2, 4, 6],\n",
              "        [5, 7, 9]]),\n",
              " array([[ 1,  4,  9],\n",
              "        [ 4, 10, 18]]),\n",
              " array([14, 32]))"
            ]
          },
          "metadata": {},
          "execution_count": 4
        }
      ]
    },
    {
      "cell_type": "code",
      "source": [
        "# Access a specific element\n",
        "element = arr_2d[0, 1]  # 2\n",
        "\n",
        "# Slice the array\n",
        "slice_arr = arr_2d[:, 1]  # array([2, 5])\n",
        "\n",
        "# Display the results\n",
        "element, slice_arr\n"
      ],
      "metadata": {
        "colab": {
          "base_uri": "https://localhost:8080/"
        },
        "id": "hyUAo9A6NE61",
        "outputId": "437a101e-d6cd-4759-dfb3-af01a4fba1ca"
      },
      "execution_count": 5,
      "outputs": [
        {
          "output_type": "execute_result",
          "data": {
            "text/plain": [
              "(2, array([2, 5]))"
            ]
          },
          "metadata": {},
          "execution_count": 5
        }
      ]
    },
    {
      "cell_type": "code",
      "source": [
        "# Get the shape of the array\n",
        "shape = arr_2d.shape  # (2, 3)\n",
        "\n",
        "# Reshape the array\n",
        "reshaped_arr = arr_2d.reshape((3, 2))\n",
        "\n",
        "# Display the results\n",
        "shape, reshaped_arr\n"
      ],
      "metadata": {
        "colab": {
          "base_uri": "https://localhost:8080/"
        },
        "id": "Zp45qlpcNXOr",
        "outputId": "592e188c-c7e9-43be-8e5f-8f5240211476"
      },
      "execution_count": 6,
      "outputs": [
        {
          "output_type": "execute_result",
          "data": {
            "text/plain": [
              "((2, 3),\n",
              " array([[1, 2],\n",
              "        [3, 4],\n",
              "        [5, 6]]))"
            ]
          },
          "metadata": {},
          "execution_count": 6
        }
      ]
    },
    {
      "cell_type": "code",
      "source": [
        "# Square root of each element\n",
        "sqrt_arr = np.sqrt(arr_1d)\n",
        "\n",
        "# Exponential of each element\n",
        "exp_arr = np.exp(arr_1d)\n",
        "\n",
        "# Sum, mean, and standard deviation\n",
        "sum_arr = np.sum(arr_1d)\n",
        "mean_arr = np.mean(arr_1d)\n",
        "std_arr = np.std(arr_1d)\n",
        "\n",
        "# Display the results\n",
        "sqrt_arr, exp_arr, sum_arr, mean_arr, std_arr\n"
      ],
      "metadata": {
        "colab": {
          "base_uri": "https://localhost:8080/"
        },
        "id": "PoMhMG2PNbZ2",
        "outputId": "73d37384-05d1-4380-ef38-5a6bdaa079db"
      },
      "execution_count": 7,
      "outputs": [
        {
          "output_type": "execute_result",
          "data": {
            "text/plain": [
              "(array([1.        , 1.41421356, 1.73205081]),\n",
              " array([ 2.71828183,  7.3890561 , 20.08553692]),\n",
              " 6,\n",
              " 2.0,\n",
              " 0.816496580927726)"
            ]
          },
          "metadata": {},
          "execution_count": 7
        }
      ]
    },
    {
      "cell_type": "code",
      "source": [],
      "metadata": {
        "id": "fzBEWhz7NfV0"
      },
      "execution_count": null,
      "outputs": []
    }
  ]
}